{
 "metadata": {
  "name": "",
  "signature": "sha256:4cdb98aa3fffeaca6cf959da9613f569297cf4cf8d00b2f3f8d86f23ae56fd8f"
 },
 "nbformat": 3,
 "nbformat_minor": 0,
 "worksheets": [
  {
   "cells": [
    {
     "cell_type": "code",
     "collapsed": false,
     "input": [
      "import smdc_perftests.performance_tests.test_runner as test_runner\n",
      "import time\n",
      "import numpy as np"
     ],
     "language": "python",
     "metadata": {},
     "outputs": [
      {
       "output_type": "stream",
       "stream": "stderr",
       "text": [
        "/home/pydev/.virtualenvs/smdc-perftest/local/lib/python2.7/site-packages/pkg_resources.py:991: UserWarning: /home/pydev/.python-eggs is writable by group/others and vulnerable to attack when used with get_resource_filename. Consider a more secure location (set with .set_extraction_path or the PYTHON_EGG_CACHE environment variable).\n",
        "  warnings.warn(msg, UserWarning)\n"
       ]
      }
     ],
     "prompt_number": 1
    },
    {
     "cell_type": "code",
     "collapsed": false,
     "input": [
      "# use measure decorator to run function multiple times\n",
      "# and measure execution time of each run\n",
      "# the returned results gets the name given in \n",
      "# the decorator but can be changed later if necessary\n",
      "\n",
      "@test_runner.measure('experiment', runs=50)\n",
      "def experiment(sleeptime=0.01):\n",
      "    time.sleep(sleeptime+np.random.rand(1)*sleeptime)\n",
      "    \n",
      "result1 = experiment()\n",
      "result2 = experiment(0.05)\n",
      "result2.name = \"sleep 0.05\"\n",
      "result3 = experiment(0.011)\n",
      "result3.name = \"sleep 0.011\"\n",
      "\n",
      "# the results can be printed\n",
      "print result1\n",
      "print result3\n"
     ],
     "language": "python",
     "metadata": {},
     "outputs": [
      {
       "output_type": "stream",
       "stream": "stdout",
       "text": [
        "\n",
        "Results experiment\n",
        "50 runs\n",
        "median 0.0166 mean 0.0161 stdev 0.0030\n",
        "sum 0.8067\n",
        "95%% confidence interval of the mean\n",
        "upper 0.0170\n",
        "       |\n",
        "mean  0.0161\n",
        "       |\n",
        "lower 0.0153\n",
        "\n",
        "Results sleep 0.011\n",
        "50 runs\n",
        "median 0.0166 mean 0.0168 stdev 0.0029\n",
        "sum 0.8392\n",
        "95%% confidence interval of the mean\n",
        "upper 0.0176\n",
        "       |\n",
        "mean  0.0168\n",
        "       |\n",
        "lower 0.0160\n"
       ]
      }
     ],
     "prompt_number": 2
    },
    {
     "cell_type": "code",
     "collapsed": false,
     "input": [
      "# the results can also be compared based on the 95% confidence intervals.\n",
      "\n",
      "print result1 < result2\n",
      "print result2 < result1\n",
      "print result1 < result3\n"
     ],
     "language": "python",
     "metadata": {},
     "outputs": [
      {
       "output_type": "stream",
       "stream": "stdout",
       "text": [
        "True\n",
        "False\n",
        "False\n"
       ]
      }
     ],
     "prompt_number": 3
    },
    {
     "cell_type": "code",
     "collapsed": false,
     "input": [
      "# or then plotted as boxplots\n",
      "import smdc_perftests.visual as vis\n",
      "import matplotlib.pyplot as plt\n",
      "%matplotlib inline\n",
      "\n",
      "fig, axis = vis.plot_boxplots(result1, result3)\n",
      "plt.show()"
     ],
     "language": "python",
     "metadata": {},
     "outputs": [
      {
       "output_type": "stream",
       "stream": "stdout",
       "text": [
        "  agg_filter: unknown\n",
        "  alpha: float (0.0 transparent through 1.0 opaque)         \n",
        "  animated: [True | False]         \n",
        "  axes: an :class:`~matplotlib.axes.Axes` instance         \n",
        "  backgroundcolor: any matplotlib color         \n",
        "  bbox: rectangle prop dict         \n",
        "  clip_box: a :class:`matplotlib.transforms.Bbox` instance         \n",
        "  clip_on: [True | False]         \n",
        "  clip_path: [ (:class:`~matplotlib.path.Path`,         :class:`~matplotlib.transforms.Transform`) |         :class:`~matplotlib.patches.Patch` | None ]         \n",
        "  color: any matplotlib color         \n",
        "  contains: a callable function         \n",
        "  family or fontfamily or fontname or name: [FONTNAME | 'serif' | 'sans-serif' | 'cursive' | 'fantasy' |                   'monospace' ]         \n",
        "  figure: a :class:`matplotlib.figure.Figure` instance         \n",
        "  fontproperties or font_properties: a :class:`matplotlib.font_manager.FontProperties` instance         \n",
        "  gid: an id string         \n",
        "  horizontalalignment or ha: [ 'center' | 'right' | 'left' ]         \n",
        "  label: string or anything printable with '%s' conversion.         \n",
        "  linespacing: float (multiple of font size)         \n",
        "  lod: [True | False]         \n",
        "  multialignment: ['left' | 'right' | 'center' ]         \n",
        "  path_effects: unknown\n",
        "  picker: [None|float|boolean|callable]         \n",
        "  position: (x,y)         \n",
        "  rasterized: [True | False | None]         \n",
        "  rotation: [ angle in degrees | 'vertical' | 'horizontal' ]         \n",
        "  rotation_mode: unknown\n",
        "  size or fontsize: [size in points | 'xx-small' | 'x-small' | 'small' |                   'medium' | 'large' | 'x-large' | 'xx-large' ]         \n",
        "  sketch_params: unknown\n",
        "  snap: unknown\n",
        "  stretch or fontstretch: [a numeric value in range 0-1000 | 'ultra-condensed' |                   'extra-condensed' | 'condensed' | 'semi-condensed' |                   'normal' | 'semi-expanded' | 'expanded' | 'extra-expanded' |                   'ultra-expanded' ]         \n",
        "  style or fontstyle: [ 'normal' | 'italic' | 'oblique']         \n",
        "  text: string or anything printable with '%s' conversion.         \n",
        "  transform: :class:`~matplotlib.transforms.Transform` instance         \n",
        "  url: a url string         \n",
        "  variant or fontvariant: [ 'normal' | 'small-caps' ]         \n",
        "  verticalalignment or va or ma: [ 'center' | 'top' | 'bottom' | 'baseline' ]         \n",
        "  visible: [True | False]         \n",
        "  weight or fontweight: [a numeric value in range 0-1000 | 'ultralight' | 'light' |                   'normal' | 'regular' | 'book' | 'medium' | 'roman' |                   'semibold' | 'demibold' | 'demi' | 'bold' | 'heavy' |                   'extra bold' | 'black' ]         \n",
        "  x: float         \n",
        "  y: float         \n",
        "  zorder: any number         \n"
       ]
      },
      {
       "metadata": {},
       "output_type": "display_data",
       "png": "[encoded data removed]",
       "text": [
        "<matplotlib.figure.Figure at 0x7fdffa239310>"
       ]
      }
     ],
     "prompt_number": 4
    },
    {
     "cell_type": "code",
     "collapsed": false,
     "input": [],
     "language": "python",
     "metadata": {},
     "outputs": []
    }
   ],
   "metadata": {}
  }
 ]
}