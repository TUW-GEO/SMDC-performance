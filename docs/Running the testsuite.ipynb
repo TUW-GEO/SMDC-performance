{
 "metadata": {
  "name": "",
  "signature": "sha256:7843b3d2308fc65ccd26933d18b9e3487d6ce3b825f615cb7ef1c4eb2c1bdad1"
 },
 "nbformat": 3,
 "nbformat_minor": 0,
 "worksheets": [
  {
   "cells": [
    {
     "cell_type": "code",
     "collapsed": false,
     "input": [
      "import os\n",
      "from datetime import datetime\n",
      "from smdc_perftests.performance_tests import test_scripts\n",
      "# the test_scripts module contains the function\n",
      "# run performance tests which runs all the performance tests on a dataset\n",
      "\n",
      "# in this example we will use the esa cci dataset class\n",
      "from smdc_perftests.datasets.esa_cci import ESACCI_netcdf\n",
      "from smdc_perftests import helper"
     ],
     "language": "python",
     "metadata": {},
     "outputs": [],
     "prompt_number": 1
    },
    {
     "cell_type": "code",
     "collapsed": false,
     "input": [
      "#init the esa cci dataset\n",
      "fname = os.path.join(\"/media\", \"sf_H\", \"Development\", \"python\", \n",
      "                     \"workspace\", \n",
      "                     \"SMDC\", \"SMDC_perftests\", \"tests\", \"test_data\",\n",
      "                     \"ESACCI-2Images.nc\")\n",
      "# only read the sm variable for this testrun\n",
      "ds = ESACCI_netcdf(fname, variables=['sm'])\n",
      "# get the testname from the filename\n",
      "testname = os.path.splitext(os.path.split(fname)[1])[0]\n",
      "\n",
      "# generate a date range list using the helper function\n",
      "# in this example this does not make a lot of sense\n",
      "date_range_list = helper.generate_date_list(datetime(2013, 11, 30), \n",
      "                                            datetime(2013, 12, 1), \n",
      "                                            n=50)\n",
      "\n",
      "# set a directory into which to save the results\n",
      "# in this case the the tests folder in the home directory\n",
      "res_dir = \"/home/pydev/tests/\"\n",
      "# run the performance tests using the grid point indices from\n",
      "# the dataset grid, the generated date_range_list and gpi read percentage\n",
      "# of 0.1 percent and only one repeat\n",
      "test_scripts.run_performance_tests(testname, ds, res_dir, \n",
      "                                   gpi_list=ds.grid.land_ind,\n",
      "                                   date_range_list=date_range_list,\n",
      "                                   gpi_read_perc=0.1,\n",
      "                                   repeats=1)"
     ],
     "language": "python",
     "metadata": {},
     "outputs": [
      {
       "output_type": "stream",
       "stream": "stderr",
       "text": [
        "/media/sf_H/Development/python/workspace/SMDC/SMDC_perftests/smdc_perftests/datasets/esa_cci.py:89: UserWarning: endian-ness of dtype and endian kwarg do not match, using endian kwarg\n",
        "  self.ds = nc.Dataset(fname)\n",
        "/home/pydev/.virtualenvs/smdc-perftest/local/lib/python2.7/site-packages/numpy/core/_methods.py:83: RuntimeWarning: Degrees of freedom <= 0 for slice\n",
        "  warnings.warn(\"Degrees of freedom <= 0 for slice\", RuntimeWarning)\n"
       ]
      },
      {
       "output_type": "stream",
       "stream": "stdout",
       "text": [
        "reading 245 out of 244243 time series\n",
        "reading 1 out of 50 dates"
       ]
      },
      {
       "output_type": "stream",
       "stream": "stdout",
       "text": [
        "\n",
        "reading 1 out of 50 dates"
       ]
      },
      {
       "output_type": "stream",
       "stream": "stdout",
       "text": [
        "\n"
       ]
      },
      {
       "output_type": "stream",
       "stream": "stderr",
       "text": [
        "/home/pydev/.virtualenvs/smdc-perftest/local/lib/python2.7/site-packages/numpy/core/_methods.py:117: RuntimeWarning: invalid value encountered in double_scalars\n",
        "  ret = ret.dtype.type(ret / rcount)\n"
       ]
      }
     ],
     "prompt_number": 2
    },
    {
     "cell_type": "markdown",
     "metadata": {},
     "source": [
      "This creates the following files named using the name given to the test and the name of the test function that was run."
     ]
    },
    {
     "cell_type": "code",
     "collapsed": false,
     "input": [
      "!ls /home/pydev/tests"
     ],
     "language": "python",
     "metadata": {},
     "outputs": [
      {
       "output_type": "stream",
       "stream": "stdout",
       "text": [
        "ESACCI-2Images_test-rand-avg-img.nc    ESACCI-2Images_test-rand-gpi.nc\r\n",
        "ESACCI-2Images_test-rand-daily-img.nc\r\n"
       ]
      }
     ],
     "prompt_number": 3
    },
    {
     "cell_type": "heading",
     "level": 3,
     "metadata": {},
     "source": [
      "Visualization of the results"
     ]
    },
    {
     "cell_type": "code",
     "collapsed": false,
     "input": [
      "%matplotlib inline\n",
      "import glob\n",
      "import smdc_perftests.performance_tests.analyze as analyze\n",
      "\n",
      "# get all the files in the results folder\n",
      "fs = glob.glob(os.path.join(res_dir, \"*.nc\"))\n",
      "df = analyze.prep_results(fs)\n",
      "# this returnes the mean times at the moment\n",
      "print df\n",
      "# and makes a very simple bar plot\n",
      "ax = analyze.bar_plot(df)"
     ],
     "language": "python",
     "metadata": {},
     "outputs": [
      {
       "output_type": "stream",
       "stream": "stdout",
       "text": [
        "                                       means\n",
        "ESACCI-2Images_test-rand-avg-img    0.094640\n",
        "ESACCI-2Images_test-rand-gpi        0.106500\n",
        "ESACCI-2Images_test-rand-daily-img  0.074244\n"
       ]
      },
      {
       "metadata": {},
       "output_type": "display_data",
       "png": "[encoded data removed]",
       "text": [
        "<matplotlib.figure.Figure at 0x7f2f606d1bd0>"
       ]
      }
     ],
     "prompt_number": 4
    },
    {
     "cell_type": "code",
     "collapsed": false,
     "input": [],
     "language": "python",
     "metadata": {},
     "outputs": []
    }
   ],
   "metadata": {}
  }
 ]
}