{
 "metadata": {
  "name": "",
  "signature": "sha256:e583241c739be94be6c83d837452a8293087c87a797858729961ab50d8457e46"
 },
 "nbformat": 3,
 "nbformat_minor": 0,
 "worksheets": [
  {
   "cells": [
    {
     "cell_type": "code",
     "collapsed": false,
     "input": [
      "import smdc_perftests.performance_tests.test_runner as test_runner\n",
      "import time\n",
      "import datetime as dt\n",
      "import numpy as np"
     ],
     "language": "python",
     "metadata": {},
     "outputs": [
      {
       "output_type": "stream",
       "stream": "stderr",
       "text": [
        "/home/pydev/.virtualenvs/smdc-perftest/local/lib/python2.7/site-packages/pkg_resources.py:991: UserWarning: /home/pydev/.python-eggs is writable by group/others and vulnerable to attack when used with get_resource_filename. Consider a more secure location (set with .set_extraction_path or the PYTHON_EGG_CACHE environment variable).\n",
        "  warnings.warn(msg, UserWarning)\n"
       ]
      }
     ],
     "prompt_number": 1
    },
    {
     "cell_type": "code",
     "collapsed": false,
     "input": [
      "# define a fake Dataset class that implements the two methods\n",
      "# read_ts and read_img\n",
      "\n",
      "class FakeDataset(object):\n",
      "\n",
      "    \"\"\"\n",
      "    Fake Dataset that provides routines for reading\n",
      "    time series and images\n",
      "    that do nothing\n",
      "    \"\"\"\n",
      "\n",
      "    def __init__(self):\n",
      "        pass\n",
      "\n",
      "    def read_ts(self, gpi):\n",
      "        time.sleep(0.01*np.random.rand(1))\n",
      "        return None\n",
      "\n",
      "    def read_img(self, date):\n",
      "        \"\"\"\n",
      "        Image readers generally return more than one\n",
      "        variable. This should not matter for these tests.\n",
      "        \"\"\"\n",
      "        assert type(date) == dt.datetime\n",
      "        time.sleep(0.01*np.random.rand(1))\n",
      "        return None, None, None, None, None\n"
     ],
     "language": "python",
     "metadata": {},
     "outputs": [],
     "prompt_number": 2
    },
    {
     "cell_type": "code",
     "collapsed": false,
     "input": [
      "fd = FakeDataset()\n",
      "# setup grid point index list, must come from grid object or\n",
      "# sciDB\n",
      "# this test dataset has 10000 gpis of which 20 percent will be read\n",
      "gpi_list = range(10000)\n",
      "\n",
      "@test_runner.measure('test_rand_gpi', runs=100)\n",
      "def test_ts():\n",
      "    test_runner.read_rand_ts_by_gpi_list(fd, gpi_list)\n",
      "\n",
      "result_ts = test_ts()\n",
      "\n",
      "print result_ts\n",
      "\n"
     ],
     "language": "python",
     "metadata": {},
     "outputs": [
      {
       "output_type": "stream",
       "stream": "stdout",
       "text": [
        "\n",
        "Results test_rand_gpi\n",
        "100 runs\n",
        "median 0.0281 mean 0.0281 stdev 0.0060\n",
        "sum 2.8130\n",
        "95%% confidence interval of the mean\n",
        "upper 0.0293\n",
        "       |\n",
        "mean  0.0281\n",
        "       |\n",
        "lower 0.0269\n"
       ]
      }
     ],
     "prompt_number": 3
    },
    {
     "cell_type": "code",
     "collapsed": false,
     "input": [
      "# setup datetime list\n",
      "# this test dataset has 10000 days of dates of which 20 percent will be read\n",
      "date_list = []\n",
      "for days in range(10000):\n",
      "    date_list.append(dt.datetime(2007, 1, 1) + dt.timedelta(days=days))\n",
      "\n",
      "@test_runner.measure('test_rand_date', runs=100)\n",
      "def test_img():\n",
      "    test_runner.read_rand_img_by_date_list(fd, date_list)\n",
      "\n",
      "result_img = test_img()\n",
      "print result_img"
     ],
     "language": "python",
     "metadata": {},
     "outputs": [
      {
       "output_type": "stream",
       "stream": "stdout",
       "text": [
        "\n",
        "Results test_rand_date\n",
        "100 runs\n",
        "median 0.0260 mean 0.0269 stdev 0.0062\n",
        "sum 2.6858\n",
        "95%% confidence interval of the mean\n",
        "upper 0.0281\n",
        "       |\n",
        "mean  0.0269\n",
        "       |\n",
        "lower 0.0256\n"
       ]
      }
     ],
     "prompt_number": 4
    },
    {
     "cell_type": "code",
     "collapsed": false,
     "input": [
      "import smdc_perftests.visual as vis\n",
      "import matplotlib.pyplot as plt\n",
      "%matplotlib inline\n",
      "\n",
      "fig, axis = vis.plot_boxplots(result_ts, result_img)\n",
      "plt.show()"
     ],
     "language": "python",
     "metadata": {},
     "outputs": [
      {
       "output_type": "stream",
       "stream": "stdout",
       "text": [
        "  agg_filter: unknown\n",
        "  alpha: float (0.0 transparent through 1.0 opaque)         \n",
        "  animated: [True | False]         \n",
        "  axes: an :class:`~matplotlib.axes.Axes` instance         \n",
        "  backgroundcolor: any matplotlib color         \n",
        "  bbox: rectangle prop dict         \n",
        "  clip_box: a :class:`matplotlib.transforms.Bbox` instance         \n",
        "  clip_on: [True | False]         \n",
        "  clip_path: [ (:class:`~matplotlib.path.Path`,         :class:`~matplotlib.transforms.Transform`) |         :class:`~matplotlib.patches.Patch` | None ]         \n",
        "  color: any matplotlib color         \n",
        "  contains: a callable function         \n",
        "  family or fontfamily or fontname or name: [FONTNAME | 'serif' | 'sans-serif' | 'cursive' | 'fantasy' |                   'monospace' ]         \n",
        "  figure: a :class:`matplotlib.figure.Figure` instance         \n",
        "  fontproperties or font_properties: a :class:`matplotlib.font_manager.FontProperties` instance         \n",
        "  gid: an id string         \n",
        "  horizontalalignment or ha: [ 'center' | 'right' | 'left' ]         \n",
        "  label: string or anything printable with '%s' conversion.         \n",
        "  linespacing: float (multiple of font size)         \n",
        "  lod: [True | False]         \n",
        "  multialignment: ['left' | 'right' | 'center' ]         \n",
        "  path_effects: unknown\n",
        "  picker: [None|float|boolean|callable]         \n",
        "  position: (x,y)         \n",
        "  rasterized: [True | False | None]         \n",
        "  rotation: [ angle in degrees | 'vertical' | 'horizontal' ]         \n",
        "  rotation_mode: unknown\n",
        "  size or fontsize: [size in points | 'xx-small' | 'x-small' | 'small' |                   'medium' | 'large' | 'x-large' | 'xx-large' ]         \n",
        "  sketch_params: unknown\n",
        "  snap: unknown\n",
        "  stretch or fontstretch: [a numeric value in range 0-1000 | 'ultra-condensed' |                   'extra-condensed' | 'condensed' | 'semi-condensed' |                   'normal' | 'semi-expanded' | 'expanded' | 'extra-expanded' |                   'ultra-expanded' ]         \n",
        "  style or fontstyle: [ 'normal' | 'italic' | 'oblique']         \n",
        "  text: string or anything printable with '%s' conversion.         \n",
        "  transform: :class:`~matplotlib.transforms.Transform` instance         \n",
        "  url: a url string         \n",
        "  variant or fontvariant: [ 'normal' | 'small-caps' ]         \n",
        "  verticalalignment or va or ma: [ 'center' | 'top' | 'bottom' | 'baseline' ]         \n",
        "  visible: [True | False]         \n",
        "  weight or fontweight: [a numeric value in range 0-1000 | 'ultralight' | 'light' |                   'normal' | 'regular' | 'book' | 'medium' | 'roman' |                   'semibold' | 'demibold' | 'demi' | 'bold' | 'heavy' |                   'extra bold' | 'black' ]         \n",
        "  x: float         \n",
        "  y: float         \n",
        "  zorder: any number         \n"
       ]
      },
      {
       "metadata": {},
       "output_type": "display_data",
       "png": "[encoded data removed]",
       "text": [
        "<matplotlib.figure.Figure at 0x7f0a608ef350>"
       ]
      }
     ],
     "prompt_number": 5
    },
    {
     "cell_type": "code",
     "collapsed": false,
     "input": [],
     "language": "python",
     "metadata": {},
     "outputs": []
    }
   ],
   "metadata": {}
  }
 ]
}