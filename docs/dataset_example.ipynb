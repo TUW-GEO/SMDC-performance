{
 "metadata": {
  "name": "",
  "signature": "sha256:3fb138349ae158011d92b74056348ac09cda26ec96f733258c83e8c1e406d80d"
 },
 "nbformat": 3,
 "nbformat_minor": 0,
 "worksheets": [
  {
   "cells": [
    {
     "cell_type": "code",
     "collapsed": false,
     "input": [
      "import smdc_perftests.performance_tests.test_runner as test_runner\n",
      "import time\n",
      "import datetime as dt\n",
      "import numpy as np"
     ],
     "language": "python",
     "metadata": {},
     "outputs": [],
     "prompt_number": 1
    },
    {
     "cell_type": "code",
     "collapsed": false,
     "input": [
      "# define a fake Dataset class that implements the methods\n",
      "# get_timeseries, get_avg_image and get_data\n",
      "\n",
      "class FakeDataset(object):\n",
      "\n",
      "    \"\"\"\n",
      "    Fake Dataset that provides routines for reading\n",
      "    time series and images\n",
      "    that do nothing\n",
      "    \"\"\"\n",
      "\n",
      "    def __init__(self):\n",
      "        pass\n",
      "        self.ts_read = 0\n",
      "        self.img_read = 0\n",
      "        self.cells_read = 0\n",
      "\n",
      "    def get_timeseries(self, gpi, date_start=None, date_end=None):\n",
      "        time.sleep(0.01*np.random.rand(1))\n",
      "        self.ts_read += 1\n",
      "        return None\n",
      "\n",
      "    def get_avg_image(self, date_start, date_end=None, cell_id=None):\n",
      "        \"\"\"\n",
      "        Image readers generally return more than one\n",
      "        variable. This should not matter for these tests.\n",
      "        \"\"\"\n",
      "        assert type(date_start) == dt.datetime\n",
      "        self.img_read += 1\n",
      "        time.sleep(0.01*np.random.rand(1))\n",
      "        return None, None, None, None, None\n",
      "\n",
      "    def get_data(self, date_start, date_end, cell_id):\n",
      "        \"\"\"\n",
      "        Image readers generally return more than one\n",
      "        variable. This should not matter for these tests.\n",
      "        \"\"\"\n",
      "        assert type(date_start) == dt.datetime\n",
      "        assert type(date_end) == dt.datetime\n",
      "        self.cells_read += 1\n",
      "        time.sleep(0.01*np.random.rand(1))\n",
      "        return None, None, None, None, None\n",
      "\n"
     ],
     "language": "python",
     "metadata": {},
     "outputs": [],
     "prompt_number": 15
    },
    {
     "cell_type": "code",
     "collapsed": false,
     "input": [
      "fd = FakeDataset()\n",
      "# setup grid point index list, must come from grid object or\n",
      "# sciDB\n",
      "# this test dataset has 10000 gpis of which 1 percent will be read\n",
      "gpi_list = range(10000)\n",
      "\n",
      "@test_runner.measure('test_rand_gpi', runs=100)\n",
      "def test_ts():\n",
      "    test_runner.read_rand_ts_by_gpi_list(fd, gpi_list)\n",
      "\n",
      "result_ts = test_ts()\n",
      "\n",
      "print result_ts\n",
      "\n"
     ],
     "language": "python",
     "metadata": {},
     "outputs": [
      {
       "output_type": "stream",
       "stream": "stdout",
       "text": [
        "\n",
        "Results test_rand_gpi\n",
        "100 runs\n",
        "median 0.5642 mean 0.5591 stdev 0.0334\n",
        "sum 55.9069\n",
        "95%% confidence interval of the mean\n",
        "upper 0.5657\n",
        "       |\n",
        "mean  0.5591\n",
        "       |\n",
        "lower 0.5524\n"
       ]
      }
     ],
     "prompt_number": 16
    },
    {
     "cell_type": "code",
     "collapsed": false,
     "input": [
      "# setup datetime list\n",
      "# this test dataset has 10000 days of dates of which 1 percent will be read\n",
      "date_list = []\n",
      "for days in range(10000):\n",
      "    date_list.append(dt.datetime(2007, 1, 1) + dt.timedelta(days=days))\n",
      "\n",
      "@test_runner.measure('test_rand_date', runs=100)\n",
      "def test_img():\n",
      "    test_runner.read_rand_img_by_date_list(fd, date_list)\n",
      "\n",
      "result_img = test_img()\n",
      "print result_img"
     ],
     "language": "python",
     "metadata": {},
     "outputs": [
      {
       "output_type": "stream",
       "stream": "stdout",
       "text": [
        "\n",
        "Results test_rand_date\n",
        "100 runs\n",
        "median 0.5530 mean 0.5548 stdev 0.0343\n",
        "sum 55.4800\n",
        "95%% confidence interval of the mean\n",
        "upper 0.5616\n",
        "       |\n",
        "mean  0.5548\n",
        "       |\n",
        "lower 0.5480\n"
       ]
      }
     ],
     "prompt_number": 17
    },
    {
     "cell_type": "code",
     "collapsed": false,
     "input": [
      "\"\"\"\n",
      "Read data by cell list using fixed start and end date\n",
      "1 percent of the cells are read with a minimum of 1 cell.\n",
      "\"\"\"\n",
      "fd = FakeDataset()\n",
      "cell_list = range(10000)\n",
      "\n",
      "@test_runner.measure('test_rand_cells', runs=100)\n",
      "def test():\n",
      "    test_runner.read_rand_cells_by_cell_list(fd,\n",
      "                                             dt.datetime(2007, 1, 1), dt.datetime(2008, 1, 1), cell_list)\n",
      "\n",
      "results_cells = test()\n",
      "print results_cells\n"
     ],
     "language": "python",
     "metadata": {},
     "outputs": [
      {
       "output_type": "stream",
       "stream": "stdout",
       "text": [
        "\n",
        "Results test_rand_cells\n",
        "100 runs\n",
        "median 0.5510 mean 0.5476 stdev 0.0368\n",
        "sum 54.7624\n",
        "95%% confidence interval of the mean\n",
        "upper 0.5549\n",
        "       |\n",
        "mean  0.5476\n",
        "       |\n",
        "lower 0.5403\n"
       ]
      }
     ],
     "prompt_number": 18
    },
    {
     "cell_type": "code",
     "collapsed": false,
     "input": [
      "import smdc_perftests.visual as vis\n",
      "import matplotlib.pyplot as plt\n",
      "%matplotlib inline\n",
      "\n",
      "fig, axis = vis.plot_boxplots(result_ts, result_img, results_cells)\n",
      "plt.show()"
     ],
     "language": "python",
     "metadata": {},
     "outputs": [
      {
       "output_type": "stream",
       "stream": "stdout",
       "text": [
        "  agg_filter: unknown\n",
        "  alpha: float (0.0 transparent through 1.0 opaque)         \n",
        "  animated: [True | False]         \n",
        "  axes: an :class:`~matplotlib.axes.Axes` instance         \n",
        "  backgroundcolor: any matplotlib color         \n",
        "  bbox: rectangle prop dict         \n",
        "  clip_box: a :class:`matplotlib.transforms.Bbox` instance         \n",
        "  clip_on: [True | False]         \n",
        "  clip_path: [ (:class:`~matplotlib.path.Path`,         :class:`~matplotlib.transforms.Transform`) |         :class:`~matplotlib.patches.Patch` | None ]         \n",
        "  color: any matplotlib color         \n",
        "  contains: a callable function         \n",
        "  family or fontfamily or fontname or name: [FONTNAME | 'serif' | 'sans-serif' | 'cursive' | 'fantasy' |                   'monospace' ]         \n",
        "  figure: a :class:`matplotlib.figure.Figure` instance         \n",
        "  fontproperties or font_properties: a :class:`matplotlib.font_manager.FontProperties` instance         \n",
        "  gid: an id string         \n",
        "  horizontalalignment or ha: [ 'center' | 'right' | 'left' ]         \n",
        "  label: string or anything printable with '%s' conversion.         \n",
        "  linespacing: float (multiple of font size)         \n",
        "  lod: [True | False]         \n",
        "  multialignment: ['left' | 'right' | 'center' ]         \n",
        "  path_effects: unknown\n",
        "  picker: [None|float|boolean|callable]         \n",
        "  position: (x,y)         \n",
        "  rasterized: [True | False | None]         \n",
        "  rotation: [ angle in degrees | 'vertical' | 'horizontal' ]         \n",
        "  rotation_mode: unknown\n",
        "  size or fontsize: [size in points | 'xx-small' | 'x-small' | 'small' |                   'medium' | 'large' | 'x-large' | 'xx-large' ]         \n",
        "  sketch_params: unknown\n",
        "  snap: unknown\n",
        "  stretch or fontstretch: [a numeric value in range 0-1000 | 'ultra-condensed' |                   'extra-condensed' | 'condensed' | 'semi-condensed' |                   'normal' | 'semi-expanded' | 'expanded' | 'extra-expanded' |                   'ultra-expanded' ]         \n",
        "  style or fontstyle: [ 'normal' | 'italic' | 'oblique']         \n",
        "  text: string or anything printable with '%s' conversion.         \n",
        "  transform: :class:`~matplotlib.transforms.Transform` instance         \n",
        "  url: a url string         \n",
        "  variant or fontvariant: [ 'normal' | 'small-caps' ]         \n",
        "  verticalalignment or va or ma: [ 'center' | 'top' | 'bottom' | 'baseline' ]         \n",
        "  visible: [True | False]         \n",
        "  weight or fontweight: [a numeric value in range 0-1000 | 'ultralight' | 'light' |                   'normal' | 'regular' | 'book' | 'medium' | 'roman' |                   'semibold' | 'demibold' | 'demi' | 'bold' | 'heavy' |                   'extra bold' | 'black' ]         \n",
        "  x: float         \n",
        "  y: float         \n",
        "  zorder: any number         \n"
       ]
      },
      {
       "metadata": {},
       "output_type": "display_data",
       "png": "[encoded data removed]",
       "text": [
        "<matplotlib.figure.Figure at 0x7f5afee87050>"
       ]
      }
     ],
     "prompt_number": 19
    }
   ],
   "metadata": {}
  }
 ]
}